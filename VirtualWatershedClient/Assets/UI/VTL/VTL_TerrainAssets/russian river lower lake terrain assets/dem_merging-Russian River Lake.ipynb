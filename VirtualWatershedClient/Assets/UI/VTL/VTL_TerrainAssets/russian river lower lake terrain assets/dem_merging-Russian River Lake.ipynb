{
 "metadata": {
  "name": "",
  "signature": "sha256:804384f44f9adaee3f1fe0921b602b78ad58b7a430a51222105cccdef522ed7a"
 },
 "nbformat": 3,
 "nbformat_minor": 0,
 "worksheets": [
  {
   "cells": [
    {
     "cell_type": "code",
     "collapsed": false,
     "input": [
      "import numpy as np\n",
      "\n",
      "import matplotlib.pyplot as plt\n",
      "%matplotlib inline\n",
      "\n",
      "import os\n",
      "\n",
      "from osgeo import gdal, osr\n",
      "from osgeo.gdalconst import *\n",
      "\n",
      "import pyproj\n",
      "from pyproj import Proj, transform\n",
      "\n",
      "from rl_geo_lib.dem32 import DEM32, make_normal\n",
      "from gdal_merge import main as gdal_merge"
     ],
     "language": "python",
     "metadata": {},
     "outputs": [],
     "prompt_number": 3
    },
    {
     "cell_type": "code",
     "collapsed": false,
     "input": [
      "hr_dem_fn = r'D:\\ownCloud\\documents\\geo_data\\RussianRiver\\rusriv_dem\\rusriv_dem\\w001001.adf'"
     ],
     "language": "python",
     "metadata": {},
     "outputs": [],
     "prompt_number": 3
    },
    {
     "cell_type": "code",
     "collapsed": false,
     "input": [
      "\n",
      "dem = DEM32(hr_dem_fn)\n",
      "proj = dem.proj\n",
      "\n",
      "srs = osr.SpatialReference()\n",
      "srs.ImportFromWkt(proj)\n",
      "ref_proj4 = Proj(srs.ExportToProj4())\n",
      "\n",
      "ref_proj4.srs\n",
      "\n",
      "transform = dem.transform\n",
      "print transform\n",
      "\n",
      "res = transform[1] \n",
      "res *= 2\n",
      "\n",
      "# epsg: 3338"
     ],
     "language": "python",
     "metadata": {},
     "outputs": [
      {
       "output_type": "stream",
       "stream": "stdout",
       "text": [
        "(209582.20522187374, 3.048006096012189, 0.0, 1180111.210539653, 0.0, -3.048006096012196)\n"
       ]
      }
     ],
     "prompt_number": 4
    },
    {
     "cell_type": "code",
     "collapsed": false,
     "input": [
      "dem.set_nodata_to_zero('hr_dem_nd0.tif')"
     ],
     "language": "python",
     "metadata": {},
     "outputs": [],
     "prompt_number": 5
    },
    {
     "cell_type": "code",
     "collapsed": false,
     "input": [
      "dem = DEM32('hr_dem_nd0.tif')\n",
      "dem.feet_to_meters('hr_dem_nd0_meters.tif')"
     ],
     "language": "python",
     "metadata": {},
     "outputs": [],
     "prompt_number": 6
    },
    {
     "cell_type": "code",
     "collapsed": false,
     "input": [
      "dem.extents\n",
      "dem = None"
     ],
     "language": "python",
     "metadata": {},
     "outputs": [],
     "prompt_number": 7
    },
    {
     "cell_type": "code",
     "collapsed": false,
     "input": [
      "!gdalinfo hr_dem_nd0_meters.tif -stats"
     ],
     "language": "python",
     "metadata": {},
     "outputs": [
      {
       "output_type": "stream",
       "stream": "stdout",
       "text": [
        "Driver: GTiff/GeoTIFF\n",
        "Files: hr_dem_nd0_meters.tif\n",
        "       hr_dem_nd0_meters.tif.aux.xml\n",
        "Size is 7454, 11506\n",
        "Coordinate System is:\n",
        "PROJCS[\"unnamed\",\n",
        "    GEOGCS[\"NAD83\",\n",
        "        DATUM[\"North_American_Datum_1983\",\n",
        "            SPHEROID[\"GRS 1980\",6378137,298.2572221010002,\n",
        "                AUTHORITY[\"EPSG\",\"7019\"]],\n",
        "            TOWGS84[0,0,0,0,0,0,0],\n",
        "            AUTHORITY[\"EPSG\",\"6269\"]],\n",
        "        PRIMEM[\"Greenwich\",0],\n",
        "        UNIT[\"degree\",0.0174532925199433],\n",
        "        AUTHORITY[\"EPSG\",\"4269\"]],\n",
        "    PROJECTION[\"Albers_Conic_Equal_Area\"],\n",
        "    PARAMETER[\"standard_parallel_1\",55],\n",
        "    PARAMETER[\"standard_parallel_2\",65],\n",
        "    PARAMETER[\"latitude_of_center\",50],\n",
        "    PARAMETER[\"longitude_of_center\",-154],\n",
        "    PARAMETER[\"false_easting\",0],\n",
        "    PARAMETER[\"false_northing\",0],\n",
        "    UNIT[\"metre\",1,\n",
        "        AUTHORITY[\"EPSG\",\"9001\"]]]\n",
        "Origin = (209582.205221873740000,1180111.210539653000000)\n",
        "Pixel Size = (3.048006096012189,-3.048006096012196)\n",
        "Metadata:\n",
        "  AREA_OR_POINT=Area\n",
        "Image Structure Metadata:\n",
        "  INTERLEAVE=BAND\n",
        "Corner Coordinates:\n",
        "Upper Left  (  209582.205, 1180111.211) (150d 9'48.68\"W, 60d33' 8.11\"N)\n",
        "Lower Left  (  209582.205, 1145040.852) (150d12' 0.77\"W, 60d14'21.14\"N)\n",
        "Upper Right (  232302.043, 1180111.211) (149d44'55.35\"W, 60d32'23.61\"N)\n",
        "Lower Right (  232302.043, 1145040.852) (149d47'21.64\"W, 60d13'37.06\"N)\n",
        "Center      (  220942.124, 1162576.031) (149d58'31.80\"W, 60d23'23.06\"N)\n",
        "Band 1 Block=7454x1 Type=Float32, ColorInterp=Gray\n",
        "  Min=0.000 Max=1595.939 \n",
        "  Minimum=0.000, Maximum=1595.939, Mean=167.257, StdDev=310.817\n",
        "  Metadata:\n",
        "    STATISTICS_MAXIMUM=1595.9389648438\n",
        "    STATISTICS_MEAN=167.25724957559\n",
        "    STATISTICS_MINIMUM=0\n",
        "    STATISTICS_STDDEV=310.81665055772\n"
       ]
      }
     ],
     "prompt_number": 8
    },
    {
     "cell_type": "code",
     "collapsed": false,
     "input": [
      "mask_ds = gdal.Open('merged_dem16_adjusted5.tif')\n",
      "\n",
      "band = mask_ds.GetRasterBand(1)\n",
      "\n",
      "mask_data = band.ReadAsArray()\n",
      "print(mask_data.dtype)\n",
      "\n",
      "indices = np.where(mask_data < 250)\n",
      "\n",
      "ny = mask_ds.RasterYSize\n",
      "nx = mask_ds.RasterXSize\n",
      "\n",
      "new_data = np.zeros((ny, nx))\n",
      "new_data[indices] = 1.0\n",
      "print(np.sum(new_data)) \n",
      "print(new_data.shape)"
     ],
     "language": "python",
     "metadata": {},
     "outputs": [
      {
       "output_type": "stream",
       "stream": "stdout",
       "text": [
        "uint8\n",
        "6322.0"
       ]
      },
      {
       "output_type": "stream",
       "stream": "stdout",
       "text": [
        "\n",
        "(11506L, 7454L)\n"
       ]
      }
     ],
     "prompt_number": 9
    },
    {
     "cell_type": "code",
     "collapsed": false,
     "input": [
      "ds = gdal.Open('hr_dem_nd0_meters.tif')\n",
      "band = ds.GetRasterBand(1)\n",
      "data = band.ReadAsArray()"
     ],
     "language": "python",
     "metadata": {},
     "outputs": [],
     "prompt_number": 10
    },
    {
     "cell_type": "code",
     "collapsed": false,
     "input": [
      "for x,y in zip(*indices):\n",
      "    data[x,y] = (data[x,y-1] + data[x,y+1]) / 2.0"
     ],
     "language": "python",
     "metadata": {},
     "outputs": [],
     "prompt_number": 11
    },
    {
     "cell_type": "code",
     "collapsed": false,
     "input": [
      "dem = DEM32('hr_dem_nd0_meters.tif')\n",
      "dem._write_ds([data], 'hr_dem_nd0_meters_fixed.tif', 'GTiff', dtype=GDT_Float32)\n",
      "dem = None"
     ],
     "language": "python",
     "metadata": {},
     "outputs": [],
     "prompt_number": 12
    },
    {
     "cell_type": "code",
     "collapsed": false,
     "input": [
      "!gdalinfo hr_dem_nd0_meters_fixed.tif -stats"
     ],
     "language": "python",
     "metadata": {},
     "outputs": [
      {
       "output_type": "stream",
       "stream": "stdout",
       "text": [
        "Driver: GTiff/GeoTIFF\n",
        "Files: hr_dem_nd0_meters_fixed.tif\n",
        "       hr_dem_nd0_meters_fixed.tif.aux.xml\n",
        "Size is 7454, 11506\n",
        "Coordinate System is:\n",
        "PROJCS[\"unnamed\",\n",
        "    GEOGCS[\"NAD83\",\n",
        "        DATUM[\"North_American_Datum_1983\",\n",
        "            SPHEROID[\"GRS 1980\",6378137,298.2572221010002,\n",
        "                AUTHORITY[\"EPSG\",\"7019\"]],\n",
        "            TOWGS84[0,0,0,0,0,0,0],\n",
        "            AUTHORITY[\"EPSG\",\"6269\"]],\n",
        "        PRIMEM[\"Greenwich\",0],\n",
        "        UNIT[\"degree\",0.0174532925199433],\n",
        "        AUTHORITY[\"EPSG\",\"4269\"]],\n",
        "    PROJECTION[\"Albers_Conic_Equal_Area\"],\n",
        "    PARAMETER[\"standard_parallel_1\",55],\n",
        "    PARAMETER[\"standard_parallel_2\",65],\n",
        "    PARAMETER[\"latitude_of_center\",50],\n",
        "    PARAMETER[\"longitude_of_center\",-154],\n",
        "    PARAMETER[\"false_easting\",0],\n",
        "    PARAMETER[\"false_northing\",0],\n",
        "    UNIT[\"metre\",1,\n",
        "        AUTHORITY[\"EPSG\",\"9001\"]]]\n",
        "Origin = (209582.205221873740000,1180111.210539653000000)\n",
        "Pixel Size = (3.048006096012189,-3.048006096012196)\n",
        "Metadata:\n",
        "  AREA_OR_POINT=Area\n",
        "Image Structure Metadata:\n",
        "  INTERLEAVE=BAND\n",
        "Corner Coordinates:\n",
        "Upper Left  (  209582.205, 1180111.211) (150d 9'48.68\"W, 60d33' 8.11\"N)\n",
        "Lower Left  (  209582.205, 1145040.852) (150d12' 0.77\"W, 60d14'21.14\"N)\n",
        "Upper Right (  232302.043, 1180111.211) (149d44'55.35\"W, 60d32'23.61\"N)\n",
        "Lower Right (  232302.043, 1145040.852) (149d47'21.64\"W, 60d13'37.06\"N)\n",
        "Center      (  220942.124, 1162576.031) (149d58'31.80\"W, 60d23'23.06\"N)\n",
        "Band 1 Block=7454x1 Type=Float32, ColorInterp=Gray\n",
        "  Min=0.000 Max=1595.939 \n",
        "  Minimum=0.000, Maximum=1595.939, Mean=167.282, StdDev=310.820\n",
        "  Metadata:\n",
        "    STATISTICS_MAXIMUM=1595.9389648438\n",
        "    STATISTICS_MEAN=167.2820877484\n",
        "    STATISTICS_MINIMUM=0\n",
        "    STATISTICS_STDDEV=310.82026413398\n"
       ]
      }
     ],
     "prompt_number": 13
    },
    {
     "cell_type": "code",
     "collapsed": false,
     "input": [
      "make_normal('hr_dem_nd0_meters_fixed.tif', 'hillshade.tif') "
     ],
     "language": "python",
     "metadata": {},
     "outputs": [],
     "prompt_number": 14
    },
    {
     "cell_type": "code",
     "collapsed": false,
     "input": [
      "dem = DEM32('hr_dem_nd0_meters_fixed.tif')\n",
      "data = dem.getData()\n",
      "print(np.histogram(data))"
     ],
     "language": "python",
     "metadata": {},
     "outputs": [
      {
       "output_type": "stream",
       "stream": "stdout",
       "text": [
        "(array([61176513,  7194648,  4732392,  3121829,  2868008,  2799584,\n",
        "        2158381,  1254716,   413814,    45839]), array([    0.        ,   159.59389648,   319.18779297,   478.78168945,\n",
        "         638.37558594,   797.96948242,   957.56337891,  1117.15727539,\n",
        "        1276.75117187,  1436.34506836,  1595.93896484]))\n"
       ]
      }
     ],
     "prompt_number": 15
    },
    {
     "cell_type": "code",
     "collapsed": false,
     "input": [
      "lr1_dem_fn = r'D:\\ownCloud\\documents\\geo_data\\RussianRiver\\dem_merging\\ASTGTM2_N60W150\\ASTGTM2_N60W150_dem.tif'\n",
      "lr2_dem_fn = r'D:\\ownCloud\\documents\\geo_data\\RussianRiver\\dem_merging\\ASTGTM2_N60W151\\ASTGTM2_N60W151_dem.tif'"
     ],
     "language": "python",
     "metadata": {},
     "outputs": [],
     "prompt_number": 16
    },
    {
     "cell_type": "code",
     "collapsed": false,
     "input": [
      "!gdalinfo $lr1_dem_fn -stats"
     ],
     "language": "python",
     "metadata": {},
     "outputs": [
      {
       "output_type": "stream",
       "stream": "stdout",
       "text": [
        "Driver: GTiff/GeoTIFF\n",
        "Files: D:\\ownCloud\\documents\\geo_data\\RussianRiver\\dem_merging\\ASTGTM2_N60W150\\ASTGTM2_N60W150_dem.tif\n",
        "       D:\\ownCloud\\documents\\geo_data\\RussianRiver\\dem_merging\\ASTGTM2_N60W150\\ASTGTM2_N60W150_dem.tif.ovr\n",
        "       D:\\ownCloud\\documents\\geo_data\\RussianRiver\\dem_merging\\ASTGTM2_N60W150\\ASTGTM2_N60W150_dem.tif.aux.xml\n",
        "Size is 3601, 3601\n",
        "Coordinate System is:\n",
        "GEOGCS[\"WGS 84\",\n",
        "    DATUM[\"WGS_1984\",\n",
        "        SPHEROID[\"WGS 84\",6378137,298.257223563,\n",
        "            AUTHORITY[\"EPSG\",\"7030\"]],\n",
        "        AUTHORITY[\"EPSG\",\"6326\"]],\n",
        "    PRIMEM[\"Greenwich\",0],\n",
        "    UNIT[\"degree\",0.0174532925199433],\n",
        "    AUTHORITY[\"EPSG\",\"4326\"]]\n",
        "Origin = (-150.000138888888900,61.000138888888891)\n",
        "Pixel Size = (0.000277777777778,-0.000277777777778)\n",
        "Metadata:\n",
        "  AREA_OR_POINT=Area\n",
        "  TIFFTAG_DATETIME=2011:03:16 12:42:08\n",
        "  TIFFTAG_DOCUMENTNAME=created at\n",
        "  TIFFTAG_IMAGEDESCRIPTION=SILC TIFF\n",
        "  TIFFTAG_RESOLUTIONUNIT=2 (pixels/inch)\n",
        "  TIFFTAG_SOFTWARE=IDL 7.1.1, ITT Visual Information Solutions\n",
        "  TIFFTAG_XRESOLUTION=100\n",
        "  TIFFTAG_YRESOLUTION=100\n",
        "Image Structure Metadata:\n",
        "  INTERLEAVE=BAND\n",
        "Corner Coordinates:\n",
        "Upper Left  (-150.0001389,  61.0001389) (150d 0' 0.50\"W, 61d 0' 0.50\"N)\n",
        "Lower Left  (-150.0001389,  59.9998611) (150d 0' 0.50\"W, 59d59'59.50\"N)\n",
        "Upper Right (-148.9998611,  61.0001389) (148d59'59.50\"W, 61d 0' 0.50\"N)\n",
        "Lower Right (-148.9998611,  59.9998611) (148d59'59.50\"W, 59d59'59.50\"N)\n",
        "Center      (-149.5000000,  60.5000000) (149d30' 0.00\"W, 60d30' 0.00\"N)\n",
        "Band 1 Block=3601x1 Type=Int16, ColorInterp=Gray\n",
        "  Min=0.000 Max=1888.000 \n",
        "  Minimum=0.000, Maximum=1888.000, Mean=660.477, StdDev=407.302\n",
        "  Overviews: 1801x1801, 901x901, 451x451, 226x226\n",
        "  Metadata:\n",
        "    STATISTICS_MAXIMUM=1888\n",
        "    STATISTICS_MEAN=660.47651409121\n",
        "    STATISTICS_MINIMUM=0\n",
        "    STATISTICS_STDDEV=407.30154589044\n"
       ]
      }
     ],
     "prompt_number": 17
    },
    {
     "cell_type": "code",
     "collapsed": false,
     "input": [
      "!gdalinfo $lr2_dem_fn -stats"
     ],
     "language": "python",
     "metadata": {},
     "outputs": [
      {
       "output_type": "stream",
       "stream": "stdout",
       "text": [
        "Driver: GTiff/GeoTIFF\n",
        "Files: D:\\ownCloud\\documents\\geo_data\\RussianRiver\\dem_merging\\ASTGTM2_N60W151\\ASTGTM2_N60W151_dem.tif\n",
        "       D:\\ownCloud\\documents\\geo_data\\RussianRiver\\dem_merging\\ASTGTM2_N60W151\\ASTGTM2_N60W151_dem.tif.aux.xml\n",
        "Size is 3601, 3601\n",
        "Coordinate System is:\n",
        "GEOGCS[\"WGS 84\",\n",
        "    DATUM[\"WGS_1984\",\n",
        "        SPHEROID[\"WGS 84\",6378137,298.257223563,\n",
        "            AUTHORITY[\"EPSG\",\"7030\"]],\n",
        "        AUTHORITY[\"EPSG\",\"6326\"]],\n",
        "    PRIMEM[\"Greenwich\",0],\n",
        "    UNIT[\"degree\",0.0174532925199433],\n",
        "    AUTHORITY[\"EPSG\",\"4326\"]]\n",
        "Origin = (-151.000138888888900,61.000138888888891)\n",
        "Pixel Size = (0.000277777777778,-0.000277777777778)\n",
        "Metadata:\n",
        "  AREA_OR_POINT=Area\n",
        "  TIFFTAG_DATETIME=2011:03:16 11:29:30\n",
        "  TIFFTAG_DOCUMENTNAME=created at\n",
        "  TIFFTAG_IMAGEDESCRIPTION=SILC TIFF\n",
        "  TIFFTAG_RESOLUTIONUNIT=2 (pixels/inch)\n",
        "  TIFFTAG_SOFTWARE=IDL 7.1.1, ITT Visual Information Solutions\n",
        "  TIFFTAG_XRESOLUTION=100\n",
        "  TIFFTAG_YRESOLUTION=100\n",
        "Image Structure Metadata:\n",
        "  INTERLEAVE=BAND\n",
        "Corner Coordinates:\n",
        "Upper Left  (-151.0001389,  61.0001389) (151d 0' 0.50\"W, 61d 0' 0.50\"N)\n",
        "Lower Left  (-151.0001389,  59.9998611) (151d 0' 0.50\"W, 59d59'59.50\"N)\n",
        "Upper Right (-149.9998611,  61.0001389) (149d59'59.50\"W, 61d 0' 0.50\"N)\n",
        "Lower Right (-149.9998611,  59.9998611) (149d59'59.50\"W, 59d59'59.50\"N)\n",
        "Center      (-150.5000000,  60.5000000) (150d30' 0.00\"W, 60d30' 0.00\"N)\n",
        "Band 1 Block=3601x1 Type=Int16, ColorInterp=Gray\n",
        "  Min=0.000 Max=1925.000 \n",
        "  Minimum=0.000, Maximum=1925.000, Mean=291.771, StdDev=388.769\n",
        "  Metadata:\n",
        "    STATISTICS_MAXIMUM=1925\n",
        "    STATISTICS_MEAN=291.77111290247\n",
        "    STATISTICS_MINIMUM=0\n",
        "    STATISTICS_STDDEV=388.76857744944\n"
       ]
      }
     ],
     "prompt_number": 18
    },
    {
     "cell_type": "code",
     "collapsed": false,
     "input": [
      "if os.path.exists('lr1_dem.tif'):\n",
      "    os.remove('lr1_dem.tif')\n",
      "!gdalwarp -ot Float32 -t_srs \"{ref_proj4.srs}\" -tr $res $res -dstnodata 0 -multi -r cubicspline $lr1_dem_fn lr1_dem.tif"
     ],
     "language": "python",
     "metadata": {},
     "outputs": [
      {
       "output_type": "stream",
       "stream": "stdout",
       "text": [
        "Creating output file that is 10207P x 18917L.\n",
        "Processing input file D:\\ownCloud\\documents\\geo_data\\RussianRiver\\dem_merging\\ASTGTM2_N60W150\\ASTGTM2_N60W150_dem.tif.\n",
        "0...10...20...30...40...50...60...70...80...90...100 - done.\n"
       ]
      }
     ],
     "prompt_number": 19
    },
    {
     "cell_type": "code",
     "collapsed": false,
     "input": [
      "!gdal_translate -outsize 1987 3760 lr1_dem.tif lr1_dem_sm.tif"
     ],
     "language": "python",
     "metadata": {},
     "outputs": [
      {
       "output_type": "stream",
       "stream": "stdout",
       "text": [
        "Input file size is 10207, 18917\n",
        "0...10...20...30...40...50...60...70...80...90...100 - done.\n"
       ]
      }
     ],
     "prompt_number": 20
    },
    {
     "cell_type": "code",
     "collapsed": false,
     "input": [
      "if os.path.exists('lr2_dem.tif'):\n",
      "    os.remove('lr2_dem.tif')\n",
      "!gdalwarp -ot Float32 -t_srs \"{ref_proj4.srs}\" -tr $res $res -dstnodata 0 -multi -r cubicspline $lr2_dem_fn lr2_dem.tif"
     ],
     "language": "python",
     "metadata": {},
     "outputs": [
      {
       "output_type": "stream",
       "stream": "stdout",
       "text": [
        "Creating output file that is 9938P x 18801L.\n",
        "Processing input file D:\\ownCloud\\documents\\geo_data\\RussianRiver\\dem_merging\\ASTGTM2_N60W151\\ASTGTM2_N60W151_dem.tif.\n",
        "0...10...20...30...40...50...60...70...80...90...100 - done.\n"
       ]
      }
     ],
     "prompt_number": 21
    },
    {
     "cell_type": "code",
     "collapsed": false,
     "input": [
      "!gdal_translate -outsize 1987 3760 lr2_dem.tif lr2_dem_sm.tif"
     ],
     "language": "python",
     "metadata": {},
     "outputs": [
      {
       "output_type": "stream",
       "stream": "stdout",
       "text": [
        "Input file size is 9938, 18801\n",
        "0...10...20...30...40...50...60...70...80...90...100 - done.\n"
       ]
      }
     ],
     "prompt_number": 22
    },
    {
     "cell_type": "code",
     "collapsed": false,
     "input": [
      "make_normal('lr1_dem_sm.tif', 'lr1_hillshade.tif')\n",
      "make_normal('lr2_dem_sm.tif', 'lr2_hillshade.tif')"
     ],
     "language": "python",
     "metadata": {},
     "outputs": [],
     "prompt_number": 23
    },
    {
     "cell_type": "code",
     "collapsed": false,
     "input": [
      "!gdalinfo lr1_dem.tif -stats"
     ],
     "language": "python",
     "metadata": {},
     "outputs": [
      {
       "output_type": "stream",
       "stream": "stdout",
       "text": [
        "Driver: GTiff/GeoTIFF\n",
        "Files: lr1_dem.tif\n",
        "       lr1_dem.tif.aux.xml\n",
        "Size is 10207, 18917\n",
        "Coordinate System is:\n",
        "PROJCS[\"unnamed\",\n",
        "    GEOGCS[\"GRS 1980(IUGG, 1980)\",\n",
        "        DATUM[\"unknown\",\n",
        "            SPHEROID[\"GRS80\",6378137,298.257222101],\n",
        "            TOWGS84[0,0,0,0,0,0,0]],\n",
        "        PRIMEM[\"Greenwich\",0],\n",
        "        UNIT[\"degree\",0.0174532925199433]],\n",
        "    PROJECTION[\"Albers_Conic_Equal_Area\"],\n",
        "    PARAMETER[\"standard_parallel_1\",55],\n",
        "    PARAMETER[\"standard_parallel_2\",65],\n",
        "    PARAMETER[\"latitude_of_center\",50],\n",
        "    PARAMETER[\"longitude_of_center\",-154],\n",
        "    PARAMETER[\"false_easting\",0],\n",
        "    PARAMETER[\"false_northing\",0],\n",
        "    UNIT[\"metre\",1,\n",
        "        AUTHORITY[\"EPSG\",\"9001\"]]]\n",
        "Origin = (215481.742980927230000,1234292.560538895900000)\n",
        "Pixel Size = (6.096012192020000,-6.096012192020000)\n",
        "Metadata:\n",
        "  AREA_OR_POINT=Area\n",
        "  TIFFTAG_DATETIME=2011:03:16 12:42:08\n",
        "  TIFFTAG_DOCUMENTNAME=created at\n",
        "  TIFFTAG_IMAGEDESCRIPTION=SILC TIFF\n",
        "  TIFFTAG_RESOLUTIONUNIT=2 (pixels/inch)\n",
        "  TIFFTAG_SOFTWARE=IDL 7.1.1, ITT Visual Information Solutions\n",
        "  TIFFTAG_XRESOLUTION=100\n",
        "  TIFFTAG_YRESOLUTION=100\n",
        "Image Structure Metadata:\n",
        "  INTERLEAVE=BAND\n",
        "Corner Coordinates:\n",
        "Upper Left  (  215481.743, 1234292.561) (149d59'45.81\"W, 61d 1'57.79\"N)\n",
        "Lower Left  (  215481.743, 1118974.298) (150d 7'15.84\"W, 60d 0'12.50\"N)\n",
        "Upper Right (  277703.739, 1234292.561) (148d50'38.45\"W, 60d59'39.78\"N)\n",
        "Lower Right (  277703.739, 1118974.298) (149d 0'17.08\"W, 59d57'58.77\"N)\n",
        "Center      (  246592.741, 1176633.429) (149d29'32.18\"W, 60d30' 1.60\"N)\n",
        "Band 1 Block=10207x1 Type=Float32, ColorInterp=Gray\n",
        "  Min=0.000 Max=1887.000 \n",
        "  Minimum=0.000, Maximum=1887.000, Mean=564.583, StdDev=442.969\n",
        "  NoData Value=0\n",
        "  Metadata:\n",
        "    STATISTICS_MAXIMUM=1887\n",
        "    STATISTICS_MEAN=564.58308210346\n",
        "    STATISTICS_MINIMUM=0\n",
        "    STATISTICS_STDDEV=442.96872259864\n"
       ]
      }
     ],
     "prompt_number": 24
    },
    {
     "cell_type": "code",
     "collapsed": false,
     "input": [
      "!gdalinfo lr2_dem.tif -stats"
     ],
     "language": "python",
     "metadata": {},
     "outputs": [
      {
       "output_type": "stream",
       "stream": "stdout",
       "text": [
        "Driver: GTiff/GeoTIFF\n",
        "Files: lr2_dem.tif\n",
        "       lr2_dem.tif.aux.xml\n",
        "Size is 9938, 18801\n",
        "Coordinate System is:\n",
        "PROJCS[\"unnamed\",\n",
        "    GEOGCS[\"GRS 1980(IUGG, 1980)\",\n",
        "        DATUM[\"unknown\",\n",
        "            SPHEROID[\"GRS80\",6378137,298.257222101],\n",
        "            TOWGS84[0,0,0,0,0,0,0]],\n",
        "        PRIMEM[\"Greenwich\",0],\n",
        "        UNIT[\"degree\",0.0174532925199433]],\n",
        "    PROJECTION[\"Albers_Conic_Equal_Area\"],\n",
        "    PARAMETER[\"standard_parallel_1\",55],\n",
        "    PARAMETER[\"standard_parallel_2\",65],\n",
        "    PARAMETER[\"latitude_of_center\",50],\n",
        "    PARAMETER[\"longitude_of_center\",-154],\n",
        "    PARAMETER[\"false_easting\",0],\n",
        "    PARAMETER[\"false_northing\",0],\n",
        "    UNIT[\"metre\",1,\n",
        "        AUTHORITY[\"EPSG\",\"9001\"]]]\n",
        "Origin = (161652.198376822810000,1230642.692191701100000)\n",
        "Pixel Size = (6.096012192020000,-6.096012192020000)\n",
        "Metadata:\n",
        "  AREA_OR_POINT=Area\n",
        "  TIFFTAG_DATETIME=2011:03:16 11:29:30\n",
        "  TIFFTAG_DOCUMENTNAME=created at\n",
        "  TIFFTAG_IMAGEDESCRIPTION=SILC TIFF\n",
        "  TIFFTAG_RESOLUTIONUNIT=2 (pixels/inch)\n",
        "  TIFFTAG_SOFTWARE=IDL 7.1.1, ITT Visual Information Solutions\n",
        "  TIFFTAG_XRESOLUTION=100\n",
        "  TIFFTAG_YRESOLUTION=100\n",
        "Image Structure Metadata:\n",
        "  INTERLEAVE=BAND\n",
        "Corner Coordinates:\n",
        "Upper Left  (  161652.198, 1230642.692) (150d59'51.93\"W, 61d 1'31.83\"N)\n",
        "Lower Left  (  161652.198, 1116031.567) (151d 5'27.37\"W, 60d 0' 6.41\"N)\n",
        "Upper Right (  222234.368, 1230642.692) (149d52'30.40\"W, 60d59'47.24\"N)\n",
        "Lower Right (  222234.368, 1116031.567) (150d 0'10.74\"W, 59d58'25.06\"N)\n",
        "Center      (  191943.283, 1173337.130) (150d29'32.37\"W, 60d30' 1.78\"N)\n",
        "Band 1 Block=9938x1 Type=Float32, ColorInterp=Gray\n",
        "  Min=0.000 Max=1923.000 \n",
        "  Minimum=0.000, Maximum=1923.000, Mean=293.826, StdDev=390.126\n",
        "  NoData Value=0\n",
        "  Metadata:\n",
        "    STATISTICS_MAXIMUM=1923\n",
        "    STATISTICS_MEAN=293.8264674153\n",
        "    STATISTICS_MINIMUM=0\n",
        "    STATISTICS_STDDEV=390.12574900366\n"
       ]
      }
     ],
     "prompt_number": 25
    },
    {
     "cell_type": "code",
     "collapsed": false,
     "input": [
      "!gdalwarp -r near -tr $res $res hr_dem_nd0_meters_fixed.tif hr_dem_nd0_meters_fixed_scaled.tif"
     ],
     "language": "python",
     "metadata": {},
     "outputs": [
      {
       "output_type": "stream",
       "stream": "stderr",
       "text": [
        "Output dataset hr_dem_nd0_meters_fixed_scaled.tif exists,\n",
        "but some commandline options were provided indicating a new dataset\n",
        "should be created.  Please delete existing dataset and run again.\n"
       ]
      }
     ],
     "prompt_number": 26
    },
    {
     "cell_type": "code",
     "collapsed": false,
     "input": [
      "ll = (-150.0384,60.4164)\n",
      "ur = (-149.9413,60.4620)\n",
      "\n",
      "geo_proj4 = Proj( \"+init=EPSG:4326\" )\n",
      "geo_proj4,ref_proj4\n",
      "pyproj.transform(geo_proj4, ref_proj4, -150.0384,60.4164), pyproj.transform(geo_proj4, ref_proj4, -149.9413,60.4620)"
     ],
     "language": "python",
     "metadata": {},
     "outputs": [
      {
       "metadata": {},
       "output_type": "pyout",
       "prompt_number": 29,
       "text": [
        "((217315.3626658032, 1165345.0390214028),\n",
        " (222323.77508038376, 1170757.2560009365))"
       ]
      }
     ],
     "prompt_number": 29
    },
    {
     "cell_type": "code",
     "collapsed": false,
     "input": [
      "res = 3.048006096012189\n",
      "(222323.77508038376 - 217315.3626658032)/res"
     ],
     "language": "python",
     "metadata": {},
     "outputs": [
      {
       "metadata": {},
       "output_type": "pyout",
       "prompt_number": 34,
       "text": [
        "1643.1766396836385"
       ]
      }
     ],
     "prompt_number": 34
    },
    {
     "cell_type": "code",
     "collapsed": false,
     "input": [
      "(1170757.2560009365 - 1165345.0390214028)/res"
     ],
     "language": "python",
     "metadata": {},
     "outputs": [
      {
       "metadata": {},
       "output_type": "pyout",
       "prompt_number": 35,
       "text": [
        "1775.6581873686723"
       ]
      }
     ],
     "prompt_number": 35
    },
    {
     "cell_type": "code",
     "collapsed": false,
     "input": [
      "(2048-1643)*res"
     ],
     "language": "python",
     "metadata": {},
     "outputs": [
      {
       "metadata": {},
       "output_type": "pyout",
       "prompt_number": 36,
       "text": [
        "1234.4424688849365"
       ]
      }
     ],
     "prompt_number": 36
    },
    {
     "cell_type": "code",
     "collapsed": false,
     "input": [
      "217315.3626658032 - 1234.4424688849365, 1165345.0390214028"
     ],
     "language": "python",
     "metadata": {},
     "outputs": [
      {
       "metadata": {},
       "output_type": "pyout",
       "prompt_number": 51,
       "text": [
        "(216080.92019691828, 1165345.0390214028)"
       ]
      }
     ],
     "prompt_number": 51
    },
    {
     "cell_type": "code",
     "collapsed": false,
     "input": [
      "#extents = [209582.205 - 2417 * (res *2),  1180111.211 + 391 * (res *2), 232302.043 + 2417 * (res *2), 1145040.852 - 391  * (res *2)]\n",
      "#extents = [202215.17426593852, 1181302.9813835407, 239669.07373406147, 1143849.0816164592]\n",
      "ll = 216081,  1165345\n",
      "res = 3.048006096012189\n",
      "extents = [ll[0], ll[1] +  res * 2050, ll[0] +  res * 2049, ll[1]]\n",
      "extents"
     ],
     "language": "python",
     "metadata": {},
     "outputs": [
      {
       "metadata": {},
       "output_type": "pyout",
       "prompt_number": 69,
       "text": [
        "[216081, 1171593.412496825, 222326.36449072897, 1165345]"
       ]
      }
     ],
     "prompt_number": 69
    },
    {
     "cell_type": "code",
     "collapsed": false,
     "input": [
      "pyproj.transform(ref_proj4, geo_proj4, 216081, 1165345), pyproj.transform(ref_proj4, geo_proj4, 222326.36449072897, 1171590.364490729)"
     ],
     "language": "python",
     "metadata": {},
     "outputs": [
      {
       "metadata": {},
       "output_type": "pyout",
       "prompt_number": 70,
       "text": [
        "((-150.06084924672652, 60.41705575340921),\n",
        " (-149.9403242801067, 60.46943345786625))"
       ]
      }
     ],
     "prompt_number": 70
    },
    {
     "cell_type": "code",
     "collapsed": false,
     "input": [
      "if os.path.exists('merged_rrlake_dem.tif'):\n",
      "    os.remove('merged_rrlake_dem.tif')\n",
      "    \n",
      "argv = ['', '-ul_lr'] + \\\n",
      "        map(str, extents) + \\\n",
      "       ['-o', 'merged_rrlake_dem.tif',\n",
      "        '-n', '0',\n",
      "        '-ot', 'Float32',\n",
      "        'hr_dem_nd0_meters_fixed_scaled.tif']\n",
      "        \n",
      "print(' '.join(argv))\n",
      "        \n",
      "gdal_merge(argv)"
     ],
     "language": "python",
     "metadata": {},
     "outputs": [
      {
       "output_type": "stream",
       "stream": "stdout",
       "text": [
        " -ul_lr 216081 1171593.4125 222326.364491 1165345 -o merged_rrlake_dem.tif -n 0 -ot Float32 hr_dem_nd0_meters_fixed_scaled.tif\n"
       ]
      }
     ],
     "prompt_number": 77
    },
    {
     "cell_type": "code",
     "collapsed": false,
     "input": [
      "!gdalinfo merged_rrlake_dem.tif -stats"
     ],
     "language": "python",
     "metadata": {},
     "outputs": [
      {
       "output_type": "stream",
       "stream": "stdout",
       "text": [
        "Driver: GTiff/GeoTIFF\n",
        "Files: merged_rrlake_dem.tif\n",
        "       merged_rrlake_dem.tif.aux.xml\n",
        "Size is 1025, 1025\n",
        "Coordinate System is:\n",
        "PROJCS[\"unnamed\",\n",
        "    GEOGCS[\"NAD83\",\n",
        "        DATUM[\"North_American_Datum_1983\",\n",
        "            SPHEROID[\"GRS 1980\",6378137,298.2572221010002,\n",
        "                AUTHORITY[\"EPSG\",\"7019\"]],\n",
        "            TOWGS84[0,0,0,0,0,0,0],\n",
        "            AUTHORITY[\"EPSG\",\"6269\"]],\n",
        "        PRIMEM[\"Greenwich\",0],\n",
        "        UNIT[\"degree\",0.0174532925199433],\n",
        "        AUTHORITY[\"EPSG\",\"4269\"]],\n",
        "    PROJECTION[\"Albers_Conic_Equal_Area\"],\n",
        "    PARAMETER[\"standard_parallel_1\",55],\n",
        "    PARAMETER[\"standard_parallel_2\",65],\n",
        "    PARAMETER[\"latitude_of_center\",50],\n",
        "    PARAMETER[\"longitude_of_center\",-154],\n",
        "    PARAMETER[\"false_easting\",0],\n",
        "    PARAMETER[\"false_northing\",0],\n",
        "    UNIT[\"metre\",1,\n",
        "        AUTHORITY[\"EPSG\",\"9001\"]]]\n",
        "Origin = (216081.000000000000000,1171593.412500000100000)\n",
        "Pixel Size = (6.096012192020000,-6.096012192020000)\n",
        "Metadata:\n",
        "  AREA_OR_POINT=Area\n",
        "Image Structure Metadata:\n",
        "  INTERLEAVE=BAND\n",
        "Corner Coordinates:\n",
        "Upper Left  (  216081.000, 1171593.413) (150d 3'14.72\"W, 60d28'22.17\"N)\n",
        "Lower Left  (  216081.000, 1165345.000) (150d 3'39.06\"W, 60d25' 1.40\"N)\n",
        "Upper Right (  222329.412, 1171593.413) (149d56'24.96\"W, 60d28'10.05\"N)\n",
        "Lower Right (  222329.412, 1165345.000) (149d56'49.99\"W, 60d24'49.31\"N)\n",
        "Center      (  219205.206, 1168469.206) (150d 0' 2.18\"W, 60d26'35.78\"N)\n",
        "Band 1 Block=1025x1 Type=Float32, ColorInterp=Gray\n",
        "  Min=0.000 Max=1336.103 \n",
        "  Minimum=0.000, Maximum=1336.103, Mean=594.804, StdDev=343.150\n",
        "  Metadata:\n",
        "    STATISTICS_MAXIMUM=1336.1030273438\n",
        "    STATISTICS_MEAN=594.80362170004\n",
        "    STATISTICS_MINIMUM=0\n",
        "    STATISTICS_STDDEV=343.14956604604\n"
       ]
      }
     ],
     "prompt_number": 61
    },
    {
     "cell_type": "code",
     "collapsed": false,
     "input": [
      "zmin = 35\n",
      "zmax = 1645"
     ],
     "language": "python",
     "metadata": {},
     "outputs": [],
     "prompt_number": 80
    },
    {
     "cell_type": "code",
     "collapsed": false,
     "input": [
      "!gdal_translate -ot UInt16 -scale 35 1645 0 65535 merged_rrlake_dem.tif merged_rrlake_dem16.tif"
     ],
     "language": "python",
     "metadata": {},
     "outputs": [
      {
       "output_type": "stream",
       "stream": "stdout",
       "text": [
        "Input file size is 1025, 1025\n",
        "0...10...20...30...40...50...60...70...80...90...100 - done.\n"
       ]
      }
     ],
     "prompt_number": 81
    },
    {
     "cell_type": "code",
     "collapsed": false,
     "input": [
      "!gdalinfo merged_rrlake_dem16.tif -stats"
     ],
     "language": "python",
     "metadata": {},
     "outputs": [
      {
       "output_type": "stream",
       "stream": "stdout",
       "text": [
        "Driver: GTiff/GeoTIFF\n",
        "Files: merged_rrlake_dem16.tif\n",
        "Size is 1025, 1025\n",
        "Coordinate System is:\n",
        "PROJCS[\"unnamed\",\n",
        "    GEOGCS[\"NAD83\",\n",
        "        DATUM[\"North_American_Datum_1983\",\n",
        "            SPHEROID[\"GRS 1980\",6378137,298.2572221010002,\n",
        "                AUTHORITY[\"EPSG\",\"7019\"]],\n",
        "            TOWGS84[0,0,0,0,0,0,0],\n",
        "            AUTHORITY[\"EPSG\",\"6269\"]],\n",
        "        PRIMEM[\"Greenwich\",0],\n",
        "        UNIT[\"degree\",0.0174532925199433],\n",
        "        AUTHORITY[\"EPSG\",\"4269\"]],\n",
        "    PROJECTION[\"Albers_Conic_Equal_Area\"],\n",
        "    PARAMETER[\"standard_parallel_1\",55],\n",
        "    PARAMETER[\"standard_parallel_2\",65],\n",
        "    PARAMETER[\"latitude_of_center\",50],\n",
        "    PARAMETER[\"longitude_of_center\",-154],\n",
        "    PARAMETER[\"false_easting\",0],\n",
        "    PARAMETER[\"false_northing\",0],\n",
        "    UNIT[\"metre\",1,\n",
        "        AUTHORITY[\"EPSG\",\"9001\"]]]\n",
        "Origin = (216081.000000000000000,1171593.412500000100000)\n",
        "Pixel Size = (6.096012192020000,-6.096012192020000)\n",
        "Metadata:\n",
        "  AREA_OR_POINT=Area\n",
        "Image Structure Metadata:\n",
        "  INTERLEAVE=BAND\n",
        "Corner Coordinates:\n",
        "Upper Left  (  216081.000, 1171593.413) (150d 3'14.72\"W, 60d28'22.17\"N)\n",
        "Lower Left  (  216081.000, 1165345.000) (150d 3'39.06\"W, 60d25' 1.40\"N)\n",
        "Upper Right (  222329.412, 1171593.413) (149d56'24.96\"W, 60d28'10.05\"N)\n",
        "Lower Right (  222329.412, 1165345.000) (149d56'49.99\"W, 60d24'49.31\"N)\n",
        "Center      (  219205.206, 1168469.206) (150d 0' 2.18\"W, 60d26'35.78\"N)\n",
        "Band 1 Block=1025x3 Type=UInt16, ColorInterp=Gray\n",
        "  Minimum=0.000, Maximum=52961.000, Mean=22849.403, StdDev=13862.013\n",
        "  Metadata:\n",
        "    STATISTICS_MAXIMUM=52961\n",
        "    STATISTICS_MEAN=22849.402719334\n",
        "    STATISTICS_MINIMUM=0\n",
        "    STATISTICS_STDDEV=13862.013435543\n"
       ]
      }
     ],
     "prompt_number": 82
    },
    {
     "cell_type": "code",
     "collapsed": false,
     "input": [
      "make_normal(\"merged_rrlake_dem.tif\", \"merged_rrlake_normal.tif\")"
     ],
     "language": "python",
     "metadata": {},
     "outputs": [],
     "prompt_number": 83
    },
    {
     "cell_type": "code",
     "collapsed": false,
     "input": [
      "dem = DEM32(\"merged_rrlake_dem.tif\")\n",
      "\n",
      "data = dem.getData()\n",
      "\n",
      "mask_indx = np.where(data<35)\n",
      "mask = np.zeros(data.shape)\n",
      "mask[mask_indx] = 255\n",
      "\n",
      "plt.imshow(mask)"
     ],
     "language": "python",
     "metadata": {},
     "outputs": [
      {
       "metadata": {},
       "output_type": "pyout",
       "prompt_number": 94,
       "text": [
        "<matplotlib.image.AxesImage at 0x14ae8358>"
       ]
      },
      {
       "metadata": {},
       "output_type": "display_data",
       "png": "[encoded data removed]",
       "text": [
        "<matplotlib.figure.Figure at 0x15676080>"
       ]
      }
     ],
     "prompt_number": 94
    },
    {
     "cell_type": "code",
     "collapsed": false,
     "input": [
      "dem._write_ds([mask], \"merged_rrlake_mask.tif\", \"GTiff\", dtype=GDT_Byte)"
     ],
     "language": "python",
     "metadata": {},
     "outputs": [],
     "prompt_number": 95
    },
    {
     "cell_type": "code",
     "collapsed": false,
     "input": [
      "import scipy\n",
      "bath = scipy.misc.imread(\"bathymetry.tif\")\n",
      "bath = np.array(bath, dtype=np.float)\n",
      "np.min(bath), np.max(bath)"
     ],
     "language": "python",
     "metadata": {},
     "outputs": [
      {
       "metadata": {},
       "output_type": "pyout",
       "prompt_number": 29,
       "text": [
        "(152.0, 255.0)"
       ]
      }
     ],
     "prompt_number": 29
    },
    {
     "cell_type": "code",
     "collapsed": false,
     "input": [
      "scale = (np.max(bath)- np.min(bath)) / 7.9\n",
      "scale"
     ],
     "language": "python",
     "metadata": {},
     "outputs": [
      {
       "metadata": {},
       "output_type": "pyout",
       "prompt_number": 30,
       "text": [
        "13.037974683544304"
       ]
      }
     ],
     "prompt_number": 30
    },
    {
     "cell_type": "code",
     "collapsed": false,
     "input": [
      "bath -= 255.0"
     ],
     "language": "python",
     "metadata": {},
     "outputs": [],
     "prompt_number": 31
    },
    {
     "cell_type": "code",
     "collapsed": false,
     "input": [
      "bath /= scale\n",
      "np.min(bath), np.max(bath)"
     ],
     "language": "python",
     "metadata": {},
     "outputs": [
      {
       "metadata": {},
       "output_type": "pyout",
       "prompt_number": 32,
       "text": [
        "(-7.8999999999999995, 0.0)"
       ]
      }
     ],
     "prompt_number": 32
    },
    {
     "cell_type": "code",
     "collapsed": false,
     "input": [
      "import matplotlib.pyplot as plt\n",
      "%matplotlib inline\n"
     ],
     "language": "python",
     "metadata": {},
     "outputs": [],
     "prompt_number": 33
    },
    {
     "cell_type": "code",
     "collapsed": false,
     "input": [
      "plt.imshow(bath)"
     ],
     "language": "python",
     "metadata": {},
     "outputs": [
      {
       "metadata": {},
       "output_type": "pyout",
       "prompt_number": 34,
       "text": [
        "<matplotlib.image.AxesImage at 0x14851ef0>"
       ]
      },
      {
       "metadata": {},
       "output_type": "display_data",
       "png": "[encoded data removed]",
       "text": [
        "<matplotlib.figure.Figure at 0x1474d4e0>"
       ]
      }
     ],
     "prompt_number": 34
    },
    {
     "cell_type": "code",
     "collapsed": false,
     "input": [
      "mask = np.ones(bath.shape)\n",
      "mask[bath == 0] = 0"
     ],
     "language": "python",
     "metadata": {},
     "outputs": [],
     "prompt_number": 73
    },
    {
     "cell_type": "code",
     "collapsed": false,
     "input": [
      "plt.imshow(mask)"
     ],
     "language": "python",
     "metadata": {},
     "outputs": [
      {
       "metadata": {},
       "output_type": "pyout",
       "prompt_number": 75,
       "text": [
        "<matplotlib.image.AxesImage at 0x23af70f0>"
       ]
      },
      {
       "metadata": {},
       "output_type": "display_data",
       "png": "[encoded data removed]",
       "text": [
        "<matplotlib.figure.Figure at 0x239f0630>"
       ]
      }
     ],
     "prompt_number": 75
    },
    {
     "cell_type": "code",
     "collapsed": false,
     "input": [
      "shore = [[],[]]\n",
      "\n",
      "for i in xrange(1,1024):\n",
      "    for j in xrange(1,1024):\n",
      "        ss = mask[i,j+1] + mask[i,j-1] + mask[i+1,j] + mask[i-1,j]\n",
      "        if ss > 0 and ss < 4 and mask[i,j]:\n",
      "            shore[0].append(i)\n",
      "            shore[1].append(j)\n",
      "            "
     ],
     "language": "python",
     "metadata": {},
     "outputs": [],
     "prompt_number": 76
    },
    {
     "cell_type": "code",
     "collapsed": false,
     "input": [
      "shore_mask = np.zeros(bath.shape)\n",
      "shore_mask[shore] = 1"
     ],
     "language": "python",
     "metadata": {},
     "outputs": [],
     "prompt_number": 77
    },
    {
     "cell_type": "code",
     "collapsed": false,
     "input": [
      "plt.imshow(shore_mask)"
     ],
     "language": "python",
     "metadata": {},
     "outputs": [
      {
       "metadata": {},
       "output_type": "pyout",
       "prompt_number": 78,
       "text": [
        "<matplotlib.image.AxesImage at 0x23b61128>"
       ]
      },
      {
       "metadata": {},
       "output_type": "display_data",
       "png": "[encoded data removed]",
       "text": [
        "<matplotlib.figure.Figure at 0x239fb198>"
       ]
      }
     ],
     "prompt_number": 78
    },
    {
     "cell_type": "code",
     "collapsed": false,
     "input": [
      "dem = DEM32(\"merged_rrlake_dem.tif\")\n",
      "data = dem.getData()"
     ],
     "language": "python",
     "metadata": {},
     "outputs": [],
     "prompt_number": 79
    },
    {
     "cell_type": "code",
     "collapsed": false,
     "input": [
      "plt.imshow(data)"
     ],
     "language": "python",
     "metadata": {},
     "outputs": [
      {
       "metadata": {},
       "output_type": "pyout",
       "prompt_number": 80,
       "text": [
        "<matplotlib.image.AxesImage at 0x23d1b128>"
       ]
      },
      {
       "metadata": {},
       "output_type": "display_data",
       "png": "[encoded data removed]",
       "text": [
        "<matplotlib.figure.Figure at 0x23b1b5f8>"
       ]
      }
     ],
     "prompt_number": 80
    },
    {
     "cell_type": "markdown",
     "metadata": {},
     "source": [
      "According to Matt:\n",
      "The shoreline elevation is 152 meters.  Max depth is 7.9 meters."
     ]
    },
    {
     "cell_type": "code",
     "collapsed": false,
     "input": [
      "abs_bath = bath + 152.0\n",
      "\n",
      "np.min(abs_bath), bath.shape, data.shape, mask.shape"
     ],
     "language": "python",
     "metadata": {},
     "outputs": [
      {
       "metadata": {},
       "output_type": "pyout",
       "prompt_number": 81,
       "text": [
        "(144.09999999999999, (1025L, 1025L), (1025L, 1025L), (1025L, 1025L))"
       ]
      }
     ],
     "prompt_number": 81
    },
    {
     "cell_type": "code",
     "collapsed": false,
     "input": [
      "for i in xrange(1025):\n",
      "    for j in xrange(1025):\n",
      "        if mask[i,j]:\n",
      "            data[i,j] = abs_bath[i,j]"
     ],
     "language": "python",
     "metadata": {},
     "outputs": [],
     "prompt_number": 82
    },
    {
     "cell_type": "code",
     "collapsed": false,
     "input": [
      "plt.imshow(data)"
     ],
     "language": "python",
     "metadata": {},
     "outputs": [
      {
       "metadata": {},
       "output_type": "pyout",
       "prompt_number": 83,
       "text": [
        "<matplotlib.image.AxesImage at 0x2410f198>"
       ]
      },
      {
       "metadata": {},
       "output_type": "display_data",
       "png": "[encoded data removed]",
       "text": [
        "<matplotlib.figure.Figure at 0x23d34240>"
       ]
      }
     ],
     "prompt_number": 83
    },
    {
     "cell_type": "code",
     "collapsed": false,
     "input": [
      "dem.data = data"
     ],
     "language": "python",
     "metadata": {},
     "outputs": [],
     "prompt_number": 84
    },
    {
     "cell_type": "code",
     "collapsed": false,
     "input": [
      "dem._write_ds([data], \"merged_rrlake_dem_w_bathymetry.tif\", \"GTiff\", dtype=GDT_Float32)"
     ],
     "language": "python",
     "metadata": {},
     "outputs": [],
     "prompt_number": 85
    },
    {
     "cell_type": "code",
     "collapsed": false,
     "input": [
      "make_normal(\"merged_rrlake_dem_w_bathymetry.tif\", \"merged_rrlake_normal_w_bathymetry.tif\")"
     ],
     "language": "python",
     "metadata": {},
     "outputs": [],
     "prompt_number": 86
    },
    {
     "cell_type": "code",
     "collapsed": false,
     "input": [
      "!gdal_translate -ot UInt16 -scale 35 1645 0 65535 merged_rrlake_dem_w_bathymetry.tif merged_rrlake_dem_w_bathymetry16.tif"
     ],
     "language": "python",
     "metadata": {},
     "outputs": [
      {
       "output_type": "stream",
       "stream": "stdout",
       "text": [
        "Input file size is 1025, 1025\n",
        "0...10...20...30...40...50...60...70...80...90...100 - done.\n"
       ]
      }
     ],
     "prompt_number": 87
    },
    {
     "cell_type": "code",
     "collapsed": false,
     "input": [
      "data[1024,0]"
     ],
     "language": "python",
     "metadata": {},
     "outputs": [
      {
       "metadata": {},
       "output_type": "pyout",
       "prompt_number": 91,
       "text": [
        "0.0"
       ]
      }
     ],
     "prompt_number": 91
    },
    {
     "cell_type": "code",
     "collapsed": false,
     "input": [
      "points = []\n",
      "values = []\n",
      "\n",
      "grid_x, grid_y = np.mgrid[0:1:1025j, 0:1:1025j]\n",
      "grid_x.shape, grid_x[0,0], grid_y[0,0], grid_x[1024, 1024], grid_y[1024,1024]"
     ],
     "language": "python",
     "metadata": {},
     "outputs": [
      {
       "metadata": {},
       "output_type": "pyout",
       "prompt_number": 139,
       "text": [
        "((1025L, 1025L), 0.0, 0.0, 1.0, 1.0)"
       ]
      }
     ],
     "prompt_number": 139
    },
    {
     "cell_type": "code",
     "collapsed": false,
     "input": [
      "for i in xrange(1025):\n",
      "    for j in xrange(1025):\n",
      "        if data[i,j] > 0.0:\n",
      "            points.append([i,j])\n",
      "            values.append(data[i,j])"
     ],
     "language": "python",
     "metadata": {},
     "outputs": [],
     "prompt_number": 140
    },
    {
     "cell_type": "code",
     "collapsed": false,
     "input": [
      "points = np.array(points, dtype=np.float)\n",
      "values = np.array(values, dtype=np.float)\n",
      "points.shape, np.min(values), np.max(values)"
     ],
     "language": "python",
     "metadata": {},
     "outputs": [
      {
       "metadata": {},
       "output_type": "pyout",
       "prompt_number": 141,
       "text": [
        "((1023619L, 2L), 120.52706909179687, 1336.10302734375)"
       ]
      }
     ],
     "prompt_number": 141
    },
    {
     "cell_type": "code",
     "collapsed": false,
     "input": [
      "np.min(points), np.max(points)"
     ],
     "language": "python",
     "metadata": {},
     "outputs": [
      {
       "metadata": {},
       "output_type": "pyout",
       "prompt_number": 142,
       "text": [
        "(0.0, 1024.0)"
       ]
      }
     ],
     "prompt_number": 142
    },
    {
     "cell_type": "code",
     "collapsed": false,
     "input": [
      "points /= 1024.0"
     ],
     "language": "python",
     "metadata": {},
     "outputs": [],
     "prompt_number": 143
    },
    {
     "cell_type": "code",
     "collapsed": false,
     "input": [
      "grid_z2 = scipy.interpolate.griddata(points, values, (grid_x, grid_y), method='linear')"
     ],
     "language": "python",
     "metadata": {},
     "outputs": [],
     "prompt_number": 147
    },
    {
     "cell_type": "code",
     "collapsed": false,
     "input": [
      "np.min(grid_z2), np.max(grid_z2)"
     ],
     "language": "python",
     "metadata": {},
     "outputs": [
      {
       "metadata": {},
       "output_type": "pyout",
       "prompt_number": 148,
       "text": [
        "(nan, nan)"
       ]
      }
     ],
     "prompt_number": 148
    },
    {
     "cell_type": "code",
     "collapsed": false,
     "input": [
      "plt.imshow(grid_z2)"
     ],
     "language": "python",
     "metadata": {},
     "outputs": [
      {
       "metadata": {},
       "output_type": "pyout",
       "prompt_number": 149,
       "text": [
        "<matplotlib.image.AxesImage at 0x43b05e80>"
       ]
      },
      {
       "metadata": {},
       "output_type": "display_data",
       "png": "[encoded data removed]",
       "text": [
        "<matplotlib.figure.Figure at 0x630f0320>"
       ]
      }
     ],
     "prompt_number": 149
    },
    {
     "cell_type": "code",
     "collapsed": false,
     "input": [
      "dem.data = grid_z2"
     ],
     "language": "python",
     "metadata": {},
     "outputs": [],
     "prompt_number": 151
    },
    {
     "cell_type": "code",
     "collapsed": false,
     "input": [
      "dem._write_ds([dem.getData()], \"merged_rrlake_dem_w_bathymetry_interpolated.tif\", \"GTiff\", dtype=GDT_Float32)"
     ],
     "language": "python",
     "metadata": {},
     "outputs": [],
     "prompt_number": 152
    },
    {
     "cell_type": "code",
     "collapsed": false,
     "input": [
      "make_normal(\"merged_rrlake_dem_w_bathymetry_interpolated.tif\", \"merged_rrlake_normal_w_bathymetry_interpolated.tif\")"
     ],
     "language": "python",
     "metadata": {},
     "outputs": [],
     "prompt_number": 153
    },
    {
     "cell_type": "code",
     "collapsed": false,
     "input": [
      "gdal_translate -of ENVI -ot UInt16 -scale 35 1645 0 65535 merged_rrlake_dem_w_bathymetry_interpolated.tif merged_rrlake_dem_w_bathymetry_interpolated.raw"
     ],
     "language": "python",
     "metadata": {},
     "outputs": [
      {
       "ename": "SyntaxError",
       "evalue": "invalid syntax (<ipython-input-154-4896ebc97c62>, line 1)",
       "output_type": "pyerr",
       "traceback": [
        "\u001b[1;36m  File \u001b[1;32m\"<ipython-input-154-4896ebc97c62>\"\u001b[1;36m, line \u001b[1;32m1\u001b[0m\n\u001b[1;33m    gdal_translate -of ENVI -ot UInt16 -scale 35 1645 0 65535 merged_rrlake_dem_w_bathymetry_interpolated.tif merged_rrlake_dem_w_bathymetry_interpolated.raw\u001b[0m\n\u001b[1;37m                          ^\u001b[0m\n\u001b[1;31mSyntaxError\u001b[0m\u001b[1;31m:\u001b[0m invalid syntax\n"
       ]
      }
     ],
     "prompt_number": 154
    },
    {
     "cell_type": "code",
     "collapsed": false,
     "input": [],
     "language": "python",
     "metadata": {},
     "outputs": []
    }
   ],
   "metadata": {}
  }
 ]
}